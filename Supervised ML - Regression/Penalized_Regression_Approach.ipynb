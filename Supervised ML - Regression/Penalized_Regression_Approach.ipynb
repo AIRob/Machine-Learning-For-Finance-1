{
 "cells": [
  {
   "cell_type": "markdown",
   "metadata": {},
   "source": [
    "# Penalized Regression Approach\n",
    "\n",
    "Lasso Regression is demonstrated in this notebook"
   ]
  },
  {
   "cell_type": "code",
   "execution_count": 1,
   "metadata": {
    "collapsed": true
   },
   "outputs": [],
   "source": [
    "import pandas as pd\n",
    "import numpy as np"
   ]
  },
  {
   "cell_type": "code",
   "execution_count": 2,
   "metadata": {
    "collapsed": false
   },
   "outputs": [],
   "source": [
    "from sklearn import linear_model"
   ]
  },
  {
   "cell_type": "code",
   "execution_count": 3,
   "metadata": {
    "collapsed": true
   },
   "outputs": [],
   "source": [
    "tickers = ['SPY', 'IEF', 'UUP', 'GLD']\n",
    "data = get_pricing(symbols(tickers), start_date='2007-4-1', end_date='2009-8-1', \n",
    "                   fields='close_price', frequency='daily')\n",
    "data.columns = [ticker.symbol for ticker in data.columns]\n",
    "data.index.name = 'Date'"
   ]
  },
  {
   "cell_type": "code",
   "execution_count": 4,
   "metadata": {
    "collapsed": false
   },
   "outputs": [
    {
     "data": {
      "text/html": [
       "<div>\n",
       "<table border=\"1\" class=\"dataframe\">\n",
       "  <thead>\n",
       "    <tr style=\"text-align: right;\">\n",
       "      <th></th>\n",
       "      <th>SPY</th>\n",
       "      <th>IEF</th>\n",
       "      <th>UUP</th>\n",
       "      <th>GLD</th>\n",
       "    </tr>\n",
       "    <tr>\n",
       "      <th>Date</th>\n",
       "      <th></th>\n",
       "      <th></th>\n",
       "      <th></th>\n",
       "      <th></th>\n",
       "    </tr>\n",
       "  </thead>\n",
       "  <tbody>\n",
       "    <tr>\n",
       "      <th>2009-07-27 00:00:00+00:00</th>\n",
       "      <td>98.350</td>\n",
       "      <td>89.65</td>\n",
       "      <td>23.42</td>\n",
       "      <td>93.71</td>\n",
       "    </tr>\n",
       "    <tr>\n",
       "      <th>2009-07-28 00:00:00+00:00</th>\n",
       "      <td>98.060</td>\n",
       "      <td>89.86</td>\n",
       "      <td>23.49</td>\n",
       "      <td>92.10</td>\n",
       "    </tr>\n",
       "    <tr>\n",
       "      <th>2009-07-29 00:00:00+00:00</th>\n",
       "      <td>97.658</td>\n",
       "      <td>89.89</td>\n",
       "      <td>23.67</td>\n",
       "      <td>91.19</td>\n",
       "    </tr>\n",
       "    <tr>\n",
       "      <th>2009-07-30 00:00:00+00:00</th>\n",
       "      <td>98.710</td>\n",
       "      <td>90.28</td>\n",
       "      <td>23.62</td>\n",
       "      <td>91.60</td>\n",
       "    </tr>\n",
       "    <tr>\n",
       "      <th>2009-07-31 00:00:00+00:00</th>\n",
       "      <td>98.830</td>\n",
       "      <td>91.21</td>\n",
       "      <td>23.32</td>\n",
       "      <td>93.36</td>\n",
       "    </tr>\n",
       "  </tbody>\n",
       "</table>\n",
       "</div>"
      ],
      "text/plain": [
       "                              SPY    IEF    UUP    GLD\n",
       "Date                                                  \n",
       "2009-07-27 00:00:00+00:00  98.350  89.65  23.42  93.71\n",
       "2009-07-28 00:00:00+00:00  98.060  89.86  23.49  92.10\n",
       "2009-07-29 00:00:00+00:00  97.658  89.89  23.67  91.19\n",
       "2009-07-30 00:00:00+00:00  98.710  90.28  23.62  91.60\n",
       "2009-07-31 00:00:00+00:00  98.830  91.21  23.32  93.36"
      ]
     },
     "execution_count": 4,
     "metadata": {},
     "output_type": "execute_result"
    }
   ],
   "source": [
    "data.tail()"
   ]
  },
  {
   "cell_type": "code",
   "execution_count": 5,
   "metadata": {
    "collapsed": false
   },
   "outputs": [
    {
     "data": {
      "text/html": [
       "<div>\n",
       "<table border=\"1\" class=\"dataframe\">\n",
       "  <thead>\n",
       "    <tr style=\"text-align: right;\">\n",
       "      <th></th>\n",
       "      <th>SPY</th>\n",
       "      <th>IEF</th>\n",
       "      <th>UUP</th>\n",
       "      <th>GLD</th>\n",
       "    </tr>\n",
       "    <tr>\n",
       "      <th>Date</th>\n",
       "      <th></th>\n",
       "      <th></th>\n",
       "      <th></th>\n",
       "      <th></th>\n",
       "    </tr>\n",
       "  </thead>\n",
       "  <tbody>\n",
       "    <tr>\n",
       "      <th>2009-07-24 00:00:00+00:00</th>\n",
       "      <td>98.060</td>\n",
       "      <td>90.12</td>\n",
       "      <td>23.44</td>\n",
       "      <td>93.45</td>\n",
       "    </tr>\n",
       "    <tr>\n",
       "      <th>2009-07-27 00:00:00+00:00</th>\n",
       "      <td>98.350</td>\n",
       "      <td>89.65</td>\n",
       "      <td>23.42</td>\n",
       "      <td>93.71</td>\n",
       "    </tr>\n",
       "    <tr>\n",
       "      <th>2009-07-28 00:00:00+00:00</th>\n",
       "      <td>98.060</td>\n",
       "      <td>89.86</td>\n",
       "      <td>23.49</td>\n",
       "      <td>92.10</td>\n",
       "    </tr>\n",
       "    <tr>\n",
       "      <th>2009-07-29 00:00:00+00:00</th>\n",
       "      <td>97.658</td>\n",
       "      <td>89.89</td>\n",
       "      <td>23.67</td>\n",
       "      <td>91.19</td>\n",
       "    </tr>\n",
       "    <tr>\n",
       "      <th>2009-07-30 00:00:00+00:00</th>\n",
       "      <td>98.710</td>\n",
       "      <td>90.28</td>\n",
       "      <td>23.62</td>\n",
       "      <td>91.60</td>\n",
       "    </tr>\n",
       "  </tbody>\n",
       "</table>\n",
       "</div>"
      ],
      "text/plain": [
       "                              SPY    IEF    UUP    GLD\n",
       "Date                                                  \n",
       "2009-07-24 00:00:00+00:00  98.060  90.12  23.44  93.45\n",
       "2009-07-27 00:00:00+00:00  98.350  89.65  23.42  93.71\n",
       "2009-07-28 00:00:00+00:00  98.060  89.86  23.49  92.10\n",
       "2009-07-29 00:00:00+00:00  97.658  89.89  23.67  91.19\n",
       "2009-07-30 00:00:00+00:00  98.710  90.28  23.62  91.60"
      ]
     },
     "execution_count": 5,
     "metadata": {},
     "output_type": "execute_result"
    }
   ],
   "source": [
    "data[:-1].tail()"
   ]
  },
  {
   "cell_type": "code",
   "execution_count": 6,
   "metadata": {
    "collapsed": false
   },
   "outputs": [],
   "source": [
    "res_1m = []\n",
    "for e in data.columns:\n",
    "    res_1m.append(data[e].pct_change(20)[1:])\n",
    "res_1m = pd.DataFrame(res_1m).T    \n",
    "res_1m.columns = [e + '_1m' for e in data.columns]\n",
    "res_1m = res_1m.dropna()"
   ]
  },
  {
   "cell_type": "code",
   "execution_count": 7,
   "metadata": {
    "collapsed": false
   },
   "outputs": [],
   "source": [
    "res_3m = []\n",
    "for e in data.columns:\n",
    "    res_3m.append(data[e].pct_change(60)[1:])\n",
    "res_3m = pd.DataFrame(res_3m).T    \n",
    "res_3m.columns = [e + '_3m' for e in data.columns]\n",
    "res_3m = res_3m.dropna()"
   ]
  },
  {
   "cell_type": "code",
   "execution_count": 8,
   "metadata": {
    "collapsed": true
   },
   "outputs": [],
   "source": [
    "res_6m = []\n",
    "for e in data.columns:\n",
    "    res_6m.append(data[e].pct_change(120)[1:])\n",
    "res_6m = pd.DataFrame(res_6m).T    \n",
    "res_6m.columns = [e + '_6m' for e in data.columns]\n",
    "res_6m = res_6m.dropna()"
   ]
  },
  {
   "cell_type": "code",
   "execution_count": 9,
   "metadata": {
    "collapsed": true
   },
   "outputs": [],
   "source": [
    "res_12m = []\n",
    "for e in data.columns:\n",
    "    res_12m.append(data[e].pct_change(240)[1:])\n",
    "res_12m = pd.DataFrame(res_12m).T    \n",
    "res_12m.columns = [e + '_12m' for e in data.columns]\n",
    "res_12m = res_12m.dropna()"
   ]
  },
  {
   "cell_type": "code",
   "execution_count": 10,
   "metadata": {
    "collapsed": false
   },
   "outputs": [
    {
     "data": {
      "text/html": [
       "<div>\n",
       "<table border=\"1\" class=\"dataframe\">\n",
       "  <thead>\n",
       "    <tr style=\"text-align: right;\">\n",
       "      <th></th>\n",
       "      <th>SPY_1m</th>\n",
       "      <th>IEF_1m</th>\n",
       "      <th>UUP_1m</th>\n",
       "      <th>GLD_1m</th>\n",
       "      <th>SPY_3m</th>\n",
       "      <th>IEF_3m</th>\n",
       "      <th>UUP_3m</th>\n",
       "      <th>GLD_3m</th>\n",
       "      <th>SPY_6m</th>\n",
       "      <th>IEF_6m</th>\n",
       "      <th>UUP_6m</th>\n",
       "      <th>GLD_6m</th>\n",
       "      <th>SPY_12m</th>\n",
       "      <th>IEF_12m</th>\n",
       "      <th>UUP_12m</th>\n",
       "      <th>GLD_12m</th>\n",
       "    </tr>\n",
       "    <tr>\n",
       "      <th>Date</th>\n",
       "      <th></th>\n",
       "      <th></th>\n",
       "      <th></th>\n",
       "      <th></th>\n",
       "      <th></th>\n",
       "      <th></th>\n",
       "      <th></th>\n",
       "      <th></th>\n",
       "      <th></th>\n",
       "      <th></th>\n",
       "      <th></th>\n",
       "      <th></th>\n",
       "      <th></th>\n",
       "      <th></th>\n",
       "      <th></th>\n",
       "      <th></th>\n",
       "    </tr>\n",
       "  </thead>\n",
       "  <tbody>\n",
       "    <tr>\n",
       "      <th>2008-03-14 00:00:00+00:00</th>\n",
       "      <td>-0.042654</td>\n",
       "      <td>0.033119</td>\n",
       "      <td>-0.053538</td>\n",
       "      <td>0.100591</td>\n",
       "      <td>-0.104303</td>\n",
       "      <td>0.063305</td>\n",
       "      <td>-0.070765</td>\n",
       "      <td>0.264890</td>\n",
       "      <td>-0.146656</td>\n",
       "      <td>0.099234</td>\n",
       "      <td>-0.074197</td>\n",
       "      <td>0.365311</td>\n",
       "      <td>-0.078586</td>\n",
       "      <td>0.106803</td>\n",
       "      <td>-0.096029</td>\n",
       "      <td>0.499271</td>\n",
       "    </tr>\n",
       "    <tr>\n",
       "      <th>2008-03-17 00:00:00+00:00</th>\n",
       "      <td>-0.053020</td>\n",
       "      <td>0.035958</td>\n",
       "      <td>-0.058601</td>\n",
       "      <td>0.112395</td>\n",
       "      <td>-0.118225</td>\n",
       "      <td>0.065916</td>\n",
       "      <td>-0.069765</td>\n",
       "      <td>0.251356</td>\n",
       "      <td>-0.151570</td>\n",
       "      <td>0.103297</td>\n",
       "      <td>-0.081659</td>\n",
       "      <td>0.373964</td>\n",
       "      <td>-0.096848</td>\n",
       "      <td>0.113428</td>\n",
       "      <td>-0.104920</td>\n",
       "      <td>0.504856</td>\n",
       "    </tr>\n",
       "    <tr>\n",
       "      <th>2008-03-18 00:00:00+00:00</th>\n",
       "      <td>-0.012735</td>\n",
       "      <td>0.036334</td>\n",
       "      <td>-0.048955</td>\n",
       "      <td>0.053068</td>\n",
       "      <td>-0.079598</td>\n",
       "      <td>0.050849</td>\n",
       "      <td>-0.061635</td>\n",
       "      <td>0.216448</td>\n",
       "      <td>-0.116075</td>\n",
       "      <td>0.095501</td>\n",
       "      <td>-0.068587</td>\n",
       "      <td>0.332781</td>\n",
       "      <td>-0.059426</td>\n",
       "      <td>0.103823</td>\n",
       "      <td>-0.093340</td>\n",
       "      <td>0.443496</td>\n",
       "    </tr>\n",
       "    <tr>\n",
       "      <th>2008-03-19 00:00:00+00:00</th>\n",
       "      <td>-0.042248</td>\n",
       "      <td>0.047023</td>\n",
       "      <td>-0.048127</td>\n",
       "      <td>-0.000965</td>\n",
       "      <td>-0.105619</td>\n",
       "      <td>0.061826</td>\n",
       "      <td>-0.061953</td>\n",
       "      <td>0.184211</td>\n",
       "      <td>-0.139901</td>\n",
       "      <td>0.105528</td>\n",
       "      <td>-0.070475</td>\n",
       "      <td>0.292314</td>\n",
       "      <td>-0.083436</td>\n",
       "      <td>0.116890</td>\n",
       "      <td>-0.089250</td>\n",
       "      <td>0.393627</td>\n",
       "    </tr>\n",
       "    <tr>\n",
       "      <th>2008-03-20 00:00:00+00:00</th>\n",
       "      <td>-0.008129</td>\n",
       "      <td>0.036785</td>\n",
       "      <td>-0.030591</td>\n",
       "      <td>-0.036568</td>\n",
       "      <td>-0.099894</td>\n",
       "      <td>0.070646</td>\n",
       "      <td>-0.053906</td>\n",
       "      <td>0.121738</td>\n",
       "      <td>-0.123267</td>\n",
       "      <td>0.101645</td>\n",
       "      <td>-0.058584</td>\n",
       "      <td>0.236274</td>\n",
       "      <td>-0.063126</td>\n",
       "      <td>0.122919</td>\n",
       "      <td>-0.085043</td>\n",
       "      <td>0.348949</td>\n",
       "    </tr>\n",
       "  </tbody>\n",
       "</table>\n",
       "</div>"
      ],
      "text/plain": [
       "                             SPY_1m    IEF_1m    UUP_1m    GLD_1m    SPY_3m  \\\n",
       "Date                                                                          \n",
       "2008-03-14 00:00:00+00:00 -0.042654  0.033119 -0.053538  0.100591 -0.104303   \n",
       "2008-03-17 00:00:00+00:00 -0.053020  0.035958 -0.058601  0.112395 -0.118225   \n",
       "2008-03-18 00:00:00+00:00 -0.012735  0.036334 -0.048955  0.053068 -0.079598   \n",
       "2008-03-19 00:00:00+00:00 -0.042248  0.047023 -0.048127 -0.000965 -0.105619   \n",
       "2008-03-20 00:00:00+00:00 -0.008129  0.036785 -0.030591 -0.036568 -0.099894   \n",
       "\n",
       "                             IEF_3m    UUP_3m    GLD_3m    SPY_6m    IEF_6m  \\\n",
       "Date                                                                          \n",
       "2008-03-14 00:00:00+00:00  0.063305 -0.070765  0.264890 -0.146656  0.099234   \n",
       "2008-03-17 00:00:00+00:00  0.065916 -0.069765  0.251356 -0.151570  0.103297   \n",
       "2008-03-18 00:00:00+00:00  0.050849 -0.061635  0.216448 -0.116075  0.095501   \n",
       "2008-03-19 00:00:00+00:00  0.061826 -0.061953  0.184211 -0.139901  0.105528   \n",
       "2008-03-20 00:00:00+00:00  0.070646 -0.053906  0.121738 -0.123267  0.101645   \n",
       "\n",
       "                             UUP_6m    GLD_6m   SPY_12m   IEF_12m   UUP_12m  \\\n",
       "Date                                                                          \n",
       "2008-03-14 00:00:00+00:00 -0.074197  0.365311 -0.078586  0.106803 -0.096029   \n",
       "2008-03-17 00:00:00+00:00 -0.081659  0.373964 -0.096848  0.113428 -0.104920   \n",
       "2008-03-18 00:00:00+00:00 -0.068587  0.332781 -0.059426  0.103823 -0.093340   \n",
       "2008-03-19 00:00:00+00:00 -0.070475  0.292314 -0.083436  0.116890 -0.089250   \n",
       "2008-03-20 00:00:00+00:00 -0.058584  0.236274 -0.063126  0.122919 -0.085043   \n",
       "\n",
       "                            GLD_12m  \n",
       "Date                                 \n",
       "2008-03-14 00:00:00+00:00  0.499271  \n",
       "2008-03-17 00:00:00+00:00  0.504856  \n",
       "2008-03-18 00:00:00+00:00  0.443496  \n",
       "2008-03-19 00:00:00+00:00  0.393627  \n",
       "2008-03-20 00:00:00+00:00  0.348949  "
      ]
     },
     "execution_count": 10,
     "metadata": {},
     "output_type": "execute_result"
    }
   ],
   "source": [
    "res = res_1m.join(res_3m).join(res_6m).join(res_12m)\n",
    "res = res.dropna()\n",
    "res.head()"
   ]
  },
  {
   "cell_type": "code",
   "execution_count": 11,
   "metadata": {
    "collapsed": false,
    "scrolled": true
   },
   "outputs": [
    {
     "data": {
      "text/plain": [
       "Date\n",
       "2008-03-17 00:00:00+00:00   -0.010456\n",
       "2008-03-18 00:00:00+00:00    0.042381\n",
       "2008-03-19 00:00:00+00:00   -0.022204\n",
       "2008-03-20 00:00:00+00:00    0.023217\n",
       "2008-03-24 00:00:00+00:00    0.015373\n",
       "Freq: C, Name: SPY, dtype: float64"
      ]
     },
     "execution_count": 11,
     "metadata": {},
     "output_type": "execute_result"
    }
   ],
   "source": [
    "y = data['SPY'].pct_change()[1:][len(data['SPY'].pct_change()) - len(res):]\n",
    "y.head()"
   ]
  },
  {
   "cell_type": "code",
   "execution_count": 12,
   "metadata": {
    "collapsed": false
   },
   "outputs": [
    {
     "data": {
      "text/plain": [
       "348"
      ]
     },
     "execution_count": 12,
     "metadata": {},
     "output_type": "execute_result"
    }
   ],
   "source": [
    "len(y)"
   ]
  },
  {
   "cell_type": "code",
   "execution_count": 13,
   "metadata": {
    "collapsed": false
   },
   "outputs": [
    {
     "data": {
      "text/plain": [
       "Date\n",
       "2008-03-17 00:00:00+00:00   -0.010456\n",
       "2008-03-18 00:00:00+00:00    0.042381\n",
       "2008-03-19 00:00:00+00:00   -0.022204\n",
       "2008-03-20 00:00:00+00:00    0.023217\n",
       "2008-03-24 00:00:00+00:00    0.015373\n",
       "Freq: C, Name: SPY, dtype: float64"
      ]
     },
     "execution_count": 13,
     "metadata": {},
     "output_type": "execute_result"
    }
   ],
   "source": [
    "y.head()"
   ]
  },
  {
   "cell_type": "code",
   "execution_count": 14,
   "metadata": {
    "collapsed": false
   },
   "outputs": [
    {
     "data": {
      "text/plain": [
       "Date\n",
       "2009-07-27 00:00:00+00:00    0.002957\n",
       "2009-07-28 00:00:00+00:00   -0.002949\n",
       "2009-07-29 00:00:00+00:00   -0.004100\n",
       "2009-07-30 00:00:00+00:00    0.010772\n",
       "2009-07-31 00:00:00+00:00    0.001216\n",
       "Freq: C, Name: SPY, dtype: float64"
      ]
     },
     "execution_count": 14,
     "metadata": {},
     "output_type": "execute_result"
    }
   ],
   "source": [
    "y.tail()"
   ]
  },
  {
   "cell_type": "code",
   "execution_count": 15,
   "metadata": {
    "collapsed": false
   },
   "outputs": [
    {
     "data": {
      "text/html": [
       "<div>\n",
       "<table border=\"1\" class=\"dataframe\">\n",
       "  <thead>\n",
       "    <tr style=\"text-align: right;\">\n",
       "      <th></th>\n",
       "      <th>SPY_1m</th>\n",
       "      <th>IEF_1m</th>\n",
       "      <th>UUP_1m</th>\n",
       "      <th>GLD_1m</th>\n",
       "      <th>SPY_3m</th>\n",
       "      <th>IEF_3m</th>\n",
       "      <th>UUP_3m</th>\n",
       "      <th>GLD_3m</th>\n",
       "      <th>SPY_6m</th>\n",
       "      <th>IEF_6m</th>\n",
       "      <th>UUP_6m</th>\n",
       "      <th>GLD_6m</th>\n",
       "      <th>SPY_12m</th>\n",
       "      <th>IEF_12m</th>\n",
       "      <th>UUP_12m</th>\n",
       "      <th>GLD_12m</th>\n",
       "    </tr>\n",
       "    <tr>\n",
       "      <th>Date</th>\n",
       "      <th></th>\n",
       "      <th></th>\n",
       "      <th></th>\n",
       "      <th></th>\n",
       "      <th></th>\n",
       "      <th></th>\n",
       "      <th></th>\n",
       "      <th></th>\n",
       "      <th></th>\n",
       "      <th></th>\n",
       "      <th></th>\n",
       "      <th></th>\n",
       "      <th></th>\n",
       "      <th></th>\n",
       "      <th></th>\n",
       "      <th></th>\n",
       "    </tr>\n",
       "  </thead>\n",
       "  <tbody>\n",
       "    <tr>\n",
       "      <th>2008-03-17 00:00:00+00:00</th>\n",
       "      <td>-0.042654</td>\n",
       "      <td>0.033119</td>\n",
       "      <td>-0.053538</td>\n",
       "      <td>0.100591</td>\n",
       "      <td>-0.104303</td>\n",
       "      <td>0.063305</td>\n",
       "      <td>-0.070765</td>\n",
       "      <td>0.264890</td>\n",
       "      <td>-0.146656</td>\n",
       "      <td>0.099234</td>\n",
       "      <td>-0.074197</td>\n",
       "      <td>0.365311</td>\n",
       "      <td>-0.078586</td>\n",
       "      <td>0.106803</td>\n",
       "      <td>-0.096029</td>\n",
       "      <td>0.499271</td>\n",
       "    </tr>\n",
       "    <tr>\n",
       "      <th>2008-03-18 00:00:00+00:00</th>\n",
       "      <td>-0.053020</td>\n",
       "      <td>0.035958</td>\n",
       "      <td>-0.058601</td>\n",
       "      <td>0.112395</td>\n",
       "      <td>-0.118225</td>\n",
       "      <td>0.065916</td>\n",
       "      <td>-0.069765</td>\n",
       "      <td>0.251356</td>\n",
       "      <td>-0.151570</td>\n",
       "      <td>0.103297</td>\n",
       "      <td>-0.081659</td>\n",
       "      <td>0.373964</td>\n",
       "      <td>-0.096848</td>\n",
       "      <td>0.113428</td>\n",
       "      <td>-0.104920</td>\n",
       "      <td>0.504856</td>\n",
       "    </tr>\n",
       "    <tr>\n",
       "      <th>2008-03-19 00:00:00+00:00</th>\n",
       "      <td>-0.012735</td>\n",
       "      <td>0.036334</td>\n",
       "      <td>-0.048955</td>\n",
       "      <td>0.053068</td>\n",
       "      <td>-0.079598</td>\n",
       "      <td>0.050849</td>\n",
       "      <td>-0.061635</td>\n",
       "      <td>0.216448</td>\n",
       "      <td>-0.116075</td>\n",
       "      <td>0.095501</td>\n",
       "      <td>-0.068587</td>\n",
       "      <td>0.332781</td>\n",
       "      <td>-0.059426</td>\n",
       "      <td>0.103823</td>\n",
       "      <td>-0.093340</td>\n",
       "      <td>0.443496</td>\n",
       "    </tr>\n",
       "    <tr>\n",
       "      <th>2008-03-20 00:00:00+00:00</th>\n",
       "      <td>-0.042248</td>\n",
       "      <td>0.047023</td>\n",
       "      <td>-0.048127</td>\n",
       "      <td>-0.000965</td>\n",
       "      <td>-0.105619</td>\n",
       "      <td>0.061826</td>\n",
       "      <td>-0.061953</td>\n",
       "      <td>0.184211</td>\n",
       "      <td>-0.139901</td>\n",
       "      <td>0.105528</td>\n",
       "      <td>-0.070475</td>\n",
       "      <td>0.292314</td>\n",
       "      <td>-0.083436</td>\n",
       "      <td>0.116890</td>\n",
       "      <td>-0.089250</td>\n",
       "      <td>0.393627</td>\n",
       "    </tr>\n",
       "    <tr>\n",
       "      <th>2008-03-24 00:00:00+00:00</th>\n",
       "      <td>-0.008129</td>\n",
       "      <td>0.036785</td>\n",
       "      <td>-0.030591</td>\n",
       "      <td>-0.036568</td>\n",
       "      <td>-0.099894</td>\n",
       "      <td>0.070646</td>\n",
       "      <td>-0.053906</td>\n",
       "      <td>0.121738</td>\n",
       "      <td>-0.123267</td>\n",
       "      <td>0.101645</td>\n",
       "      <td>-0.058584</td>\n",
       "      <td>0.236274</td>\n",
       "      <td>-0.063126</td>\n",
       "      <td>0.122919</td>\n",
       "      <td>-0.085043</td>\n",
       "      <td>0.348949</td>\n",
       "    </tr>\n",
       "  </tbody>\n",
       "</table>\n",
       "</div>"
      ],
      "text/plain": [
       "                             SPY_1m    IEF_1m    UUP_1m    GLD_1m    SPY_3m  \\\n",
       "Date                                                                          \n",
       "2008-03-17 00:00:00+00:00 -0.042654  0.033119 -0.053538  0.100591 -0.104303   \n",
       "2008-03-18 00:00:00+00:00 -0.053020  0.035958 -0.058601  0.112395 -0.118225   \n",
       "2008-03-19 00:00:00+00:00 -0.012735  0.036334 -0.048955  0.053068 -0.079598   \n",
       "2008-03-20 00:00:00+00:00 -0.042248  0.047023 -0.048127 -0.000965 -0.105619   \n",
       "2008-03-24 00:00:00+00:00 -0.008129  0.036785 -0.030591 -0.036568 -0.099894   \n",
       "\n",
       "                             IEF_3m    UUP_3m    GLD_3m    SPY_6m    IEF_6m  \\\n",
       "Date                                                                          \n",
       "2008-03-17 00:00:00+00:00  0.063305 -0.070765  0.264890 -0.146656  0.099234   \n",
       "2008-03-18 00:00:00+00:00  0.065916 -0.069765  0.251356 -0.151570  0.103297   \n",
       "2008-03-19 00:00:00+00:00  0.050849 -0.061635  0.216448 -0.116075  0.095501   \n",
       "2008-03-20 00:00:00+00:00  0.061826 -0.061953  0.184211 -0.139901  0.105528   \n",
       "2008-03-24 00:00:00+00:00  0.070646 -0.053906  0.121738 -0.123267  0.101645   \n",
       "\n",
       "                             UUP_6m    GLD_6m   SPY_12m   IEF_12m   UUP_12m  \\\n",
       "Date                                                                          \n",
       "2008-03-17 00:00:00+00:00 -0.074197  0.365311 -0.078586  0.106803 -0.096029   \n",
       "2008-03-18 00:00:00+00:00 -0.081659  0.373964 -0.096848  0.113428 -0.104920   \n",
       "2008-03-19 00:00:00+00:00 -0.068587  0.332781 -0.059426  0.103823 -0.093340   \n",
       "2008-03-20 00:00:00+00:00 -0.070475  0.292314 -0.083436  0.116890 -0.089250   \n",
       "2008-03-24 00:00:00+00:00 -0.058584  0.236274 -0.063126  0.122919 -0.085043   \n",
       "\n",
       "                            GLD_12m  \n",
       "Date                                 \n",
       "2008-03-17 00:00:00+00:00  0.499271  \n",
       "2008-03-18 00:00:00+00:00  0.504856  \n",
       "2008-03-19 00:00:00+00:00  0.443496  \n",
       "2008-03-20 00:00:00+00:00  0.393627  \n",
       "2008-03-24 00:00:00+00:00  0.348949  "
      ]
     },
     "execution_count": 15,
     "metadata": {},
     "output_type": "execute_result"
    }
   ],
   "source": [
    "X = res.shift(1).dropna().copy()\n",
    "X.head()"
   ]
  },
  {
   "cell_type": "code",
   "execution_count": 16,
   "metadata": {
    "collapsed": false
   },
   "outputs": [
    {
     "data": {
      "text/plain": [
       "348"
      ]
     },
     "execution_count": 16,
     "metadata": {},
     "output_type": "execute_result"
    }
   ],
   "source": [
    "len(X)"
   ]
  },
  {
   "cell_type": "code",
   "execution_count": 17,
   "metadata": {
    "collapsed": true
   },
   "outputs": [],
   "source": [
    "from sklearn.preprocessing import StandardScaler\n",
    "sc_X = StandardScaler()\n",
    "X_train = sc_X.fit_transform(X)\n",
    "sc_y = StandardScaler()\n",
    "y_train = sc_y.fit_transform(y)"
   ]
  },
  {
   "cell_type": "code",
   "execution_count": 18,
   "metadata": {
    "collapsed": false
   },
   "outputs": [
    {
     "data": {
      "text/plain": [
       "Lasso(alpha=0.001, copy_X=True, fit_intercept=True, max_iter=1000,\n",
       "   normalize=True, positive=False, precompute=False, random_state=None,\n",
       "   selection='cyclic', tol=0.0001, warm_start=False)"
      ]
     },
     "execution_count": 18,
     "metadata": {},
     "output_type": "execute_result"
    }
   ],
   "source": [
    "reg = linear_model.Lasso(alpha = 0.001, normalize = True)\n",
    "reg.fit(X_train, y_train)"
   ]
  },
  {
   "cell_type": "code",
   "execution_count": 19,
   "metadata": {
    "collapsed": false
   },
   "outputs": [
    {
     "data": {
      "text/plain": [
       "array([-0.07336425,  0.        , -0.        , -0.13713848, -0.16293966,\n",
       "       -0.        , -0.20379279, -0.01855312,  0.        , -0.03874942,\n",
       "       -0.11470801, -0.00925334, -0.28321425,  0.10731897, -0.        ,\n",
       "        0.12026823])"
      ]
     },
     "execution_count": 19,
     "metadata": {},
     "output_type": "execute_result"
    }
   ],
   "source": [
    "reg.coef_"
   ]
  },
  {
   "cell_type": "code",
   "execution_count": 20,
   "metadata": {
    "collapsed": false
   },
   "outputs": [
    {
     "data": {
      "text/plain": [
       "-3.2075857701468427e-17"
      ]
     },
     "execution_count": 20,
     "metadata": {},
     "output_type": "execute_result"
    }
   ],
   "source": [
    "reg.intercept_"
   ]
  },
  {
   "cell_type": "code",
   "execution_count": null,
   "metadata": {
    "collapsed": true
   },
   "outputs": [],
   "source": []
  }
 ],
 "metadata": {
  "kernelspec": {
   "display_name": "Python 2",
   "language": "python",
   "name": "python2"
  },
  "language_info": {
   "codemirror_mode": {
    "name": "ipython",
    "version": 2
   },
   "file_extension": ".py",
   "mimetype": "text/x-python",
   "name": "python",
   "nbconvert_exporter": "python",
   "pygments_lexer": "ipython2",
   "version": "2.7.12"
  }
 },
 "nbformat": 4,
 "nbformat_minor": 2
}